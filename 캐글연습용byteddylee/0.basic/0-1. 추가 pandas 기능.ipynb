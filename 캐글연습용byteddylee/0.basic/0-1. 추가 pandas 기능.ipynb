{
 "cells": [
  {
   "cell_type": "code",
   "execution_count": 3,
   "id": "e47b3512",
   "metadata": {},
   "outputs": [
    {
     "data": {
      "text/html": [
       "<div>\n",
       "<style scoped>\n",
       "    .dataframe tbody tr th:only-of-type {\n",
       "        vertical-align: middle;\n",
       "    }\n",
       "\n",
       "    .dataframe tbody tr th {\n",
       "        vertical-align: top;\n",
       "    }\n",
       "\n",
       "    .dataframe thead th {\n",
       "        text-align: right;\n",
       "    }\n",
       "</style>\n",
       "<table border=\"1\" class=\"dataframe\">\n",
       "  <thead>\n",
       "    <tr style=\"text-align: right;\">\n",
       "      <th></th>\n",
       "      <th>이름</th>\n",
       "      <th>그룹</th>\n",
       "      <th>소속사</th>\n",
       "      <th>성별</th>\n",
       "      <th>생년월일</th>\n",
       "      <th>키</th>\n",
       "      <th>혈액형</th>\n",
       "      <th>브랜드평판지수</th>\n",
       "    </tr>\n",
       "    <tr>\n",
       "      <th>순위</th>\n",
       "      <th></th>\n",
       "      <th></th>\n",
       "      <th></th>\n",
       "      <th></th>\n",
       "      <th></th>\n",
       "      <th></th>\n",
       "      <th></th>\n",
       "      <th></th>\n",
       "    </tr>\n",
       "  </thead>\n",
       "  <tbody>\n",
       "    <tr>\n",
       "      <th>1</th>\n",
       "      <td>지민</td>\n",
       "      <td>방탄소년단</td>\n",
       "      <td>빅히트</td>\n",
       "      <td>남자</td>\n",
       "      <td>1995-10-13</td>\n",
       "      <td>173.6</td>\n",
       "      <td>A</td>\n",
       "      <td>10523260</td>\n",
       "    </tr>\n",
       "    <tr>\n",
       "      <th>2</th>\n",
       "      <td>지드래곤</td>\n",
       "      <td>빅뱅</td>\n",
       "      <td>YG</td>\n",
       "      <td>남자</td>\n",
       "      <td>1988-08-18</td>\n",
       "      <td>177.0</td>\n",
       "      <td>A</td>\n",
       "      <td>9916947</td>\n",
       "    </tr>\n",
       "    <tr>\n",
       "      <th>3</th>\n",
       "      <td>강다니엘</td>\n",
       "      <td>NaN</td>\n",
       "      <td>커넥트</td>\n",
       "      <td>남자</td>\n",
       "      <td>1996-12-10</td>\n",
       "      <td>180.0</td>\n",
       "      <td>A</td>\n",
       "      <td>8273745</td>\n",
       "    </tr>\n",
       "    <tr>\n",
       "      <th>4</th>\n",
       "      <td>뷔</td>\n",
       "      <td>방탄소년단</td>\n",
       "      <td>빅히트</td>\n",
       "      <td>남자</td>\n",
       "      <td>1995-12-30</td>\n",
       "      <td>178.0</td>\n",
       "      <td>AB</td>\n",
       "      <td>8073501</td>\n",
       "    </tr>\n",
       "    <tr>\n",
       "      <th>5</th>\n",
       "      <td>화사</td>\n",
       "      <td>마마무</td>\n",
       "      <td>RBW</td>\n",
       "      <td>여자</td>\n",
       "      <td>1995-07-23</td>\n",
       "      <td>162.0</td>\n",
       "      <td>A</td>\n",
       "      <td>7650928</td>\n",
       "    </tr>\n",
       "  </tbody>\n",
       "</table>\n",
       "</div>"
      ],
      "text/plain": [
       "      이름     그룹  소속사  성별        생년월일      키 혈액형   브랜드평판지수\n",
       "순위                                                       \n",
       "1     지민  방탄소년단  빅히트  남자  1995-10-13  173.6   A  10523260\n",
       "2   지드래곤     빅뱅   YG  남자  1988-08-18  177.0   A   9916947\n",
       "3   강다니엘    NaN  커넥트  남자  1996-12-10  180.0   A   8273745\n",
       "4      뷔  방탄소년단  빅히트  남자  1995-12-30  178.0  AB   8073501\n",
       "5     화사    마마무  RBW  여자  1995-07-23  162.0   A   7650928"
      ]
     },
     "execution_count": 3,
     "metadata": {},
     "output_type": "execute_result"
    }
   ],
   "source": [
    "import pandas as pd\n",
    "\n",
    "data=pd.read_csv('http://bit.ly/ld-sample-idol', index_col='순위')\n",
    "\n",
    "data.head()"
   ]
  },
  {
   "cell_type": "code",
   "execution_count": null,
   "id": "60bd904b",
   "metadata": {},
   "outputs": [],
   "source": []
  },
  {
   "cell_type": "markdown",
   "id": "18dd781b",
   "metadata": {},
   "source": [
    "# 1. 기초 산술통계"
   ]
  },
  {
   "cell_type": "raw",
   "id": "6fabfb1b",
   "metadata": {},
   "source": [
    "info() : 간단한 정보\n",
    "describe() : 산술 통계 정보\n",
    "isull() : 결측값 확인\n",
    "sum() : 합산\n",
    "value_counts() : 데이터의 종류별 갯수"
   ]
  },
  {
   "cell_type": "markdown",
   "id": "3392ecec",
   "metadata": {},
   "source": [
    "# 2. 고급 산술통계"
   ]
  },
  {
   "cell_type": "raw",
   "id": "125cc4fc",
   "metadata": {},
   "source": [
    "groupby() : 특정 column으로 데이터를 뽑기\n",
    "or\n",
    "pibot_table"
   ]
  },
  {
   "cell_type": "markdown",
   "id": "90f627e1",
   "metadata": {},
   "source": [
    "# 3. 전처리"
   ]
  },
  {
   "cell_type": "raw",
   "id": "da08f578",
   "metadata": {},
   "source": [
    "replace() : 데이터를 다른 값으로 일괄 적용\n",
    "fillna() : \n",
    "map()"
   ]
  },
  {
   "cell_type": "markdown",
   "id": "ad5e56eb",
   "metadata": {},
   "source": [
    "# 4. 조건 필터링"
   ]
  },
  {
   "cell_type": "raw",
   "id": "2627155a",
   "metadata": {},
   "source": [
    "loc\n",
    "& |"
   ]
  }
 ],
 "metadata": {
  "kernelspec": {
   "display_name": "Python 3",
   "language": "python",
   "name": "python3"
  },
  "language_info": {
   "codemirror_mode": {
    "name": "ipython",
    "version": 3
   },
   "file_extension": ".py",
   "mimetype": "text/x-python",
   "name": "python",
   "nbconvert_exporter": "python",
   "pygments_lexer": "ipython3",
   "version": "3.8.8"
  }
 },
 "nbformat": 4,
 "nbformat_minor": 5
}
