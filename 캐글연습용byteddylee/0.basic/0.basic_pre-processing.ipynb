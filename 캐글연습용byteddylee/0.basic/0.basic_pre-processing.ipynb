{
 "cells": [
  {
   "cell_type": "markdown",
   "id": "81d93666",
   "metadata": {},
   "source": [
    "# 0. 분석 모듈 불러오기"
   ]
  },
  {
   "cell_type": "code",
   "execution_count": 3,
   "id": "09c590ad",
   "metadata": {},
   "outputs": [],
   "source": [
    "import pandas as pd"
   ]
  },
  {
   "cell_type": "markdown",
   "id": "950b0bed",
   "metadata": {},
   "source": [
    "# 1. 데이터 불러오기"
   ]
  },
  {
   "cell_type": "code",
   "execution_count": 5,
   "id": "54e95fc6",
   "metadata": {},
   "outputs": [
    {
     "data": {
      "text/html": [
       "<div>\n",
       "<style scoped>\n",
       "    .dataframe tbody tr th:only-of-type {\n",
       "        vertical-align: middle;\n",
       "    }\n",
       "\n",
       "    .dataframe tbody tr th {\n",
       "        vertical-align: top;\n",
       "    }\n",
       "\n",
       "    .dataframe thead th {\n",
       "        text-align: right;\n",
       "    }\n",
       "</style>\n",
       "<table border=\"1\" class=\"dataframe\">\n",
       "  <thead>\n",
       "    <tr style=\"text-align: right;\">\n",
       "      <th></th>\n",
       "      <th>이름</th>\n",
       "      <th>그룹</th>\n",
       "      <th>소속사</th>\n",
       "      <th>성별</th>\n",
       "      <th>생년월일</th>\n",
       "      <th>키</th>\n",
       "      <th>혈액형</th>\n",
       "      <th>브랜드평판지수</th>\n",
       "    </tr>\n",
       "    <tr>\n",
       "      <th>순위</th>\n",
       "      <th></th>\n",
       "      <th></th>\n",
       "      <th></th>\n",
       "      <th></th>\n",
       "      <th></th>\n",
       "      <th></th>\n",
       "      <th></th>\n",
       "      <th></th>\n",
       "    </tr>\n",
       "  </thead>\n",
       "  <tbody>\n",
       "    <tr>\n",
       "      <th>1</th>\n",
       "      <td>지민</td>\n",
       "      <td>방탄소년단</td>\n",
       "      <td>빅히트</td>\n",
       "      <td>남자</td>\n",
       "      <td>1995-10-13</td>\n",
       "      <td>173.6</td>\n",
       "      <td>A</td>\n",
       "      <td>10523260</td>\n",
       "    </tr>\n",
       "    <tr>\n",
       "      <th>2</th>\n",
       "      <td>지드래곤</td>\n",
       "      <td>빅뱅</td>\n",
       "      <td>YG</td>\n",
       "      <td>남자</td>\n",
       "      <td>1988-08-18</td>\n",
       "      <td>177.0</td>\n",
       "      <td>A</td>\n",
       "      <td>9916947</td>\n",
       "    </tr>\n",
       "    <tr>\n",
       "      <th>3</th>\n",
       "      <td>강다니엘</td>\n",
       "      <td>NaN</td>\n",
       "      <td>커넥트</td>\n",
       "      <td>남자</td>\n",
       "      <td>1996-12-10</td>\n",
       "      <td>180.0</td>\n",
       "      <td>A</td>\n",
       "      <td>8273745</td>\n",
       "    </tr>\n",
       "    <tr>\n",
       "      <th>4</th>\n",
       "      <td>뷔</td>\n",
       "      <td>방탄소년단</td>\n",
       "      <td>빅히트</td>\n",
       "      <td>남자</td>\n",
       "      <td>1995-12-30</td>\n",
       "      <td>178.0</td>\n",
       "      <td>AB</td>\n",
       "      <td>8073501</td>\n",
       "    </tr>\n",
       "    <tr>\n",
       "      <th>5</th>\n",
       "      <td>화사</td>\n",
       "      <td>마마무</td>\n",
       "      <td>RBW</td>\n",
       "      <td>여자</td>\n",
       "      <td>1995-07-23</td>\n",
       "      <td>162.0</td>\n",
       "      <td>A</td>\n",
       "      <td>7650928</td>\n",
       "    </tr>\n",
       "  </tbody>\n",
       "</table>\n",
       "</div>"
      ],
      "text/plain": [
       "      이름     그룹  소속사  성별        생년월일      키 혈액형   브랜드평판지수\n",
       "순위                                                       \n",
       "1     지민  방탄소년단  빅히트  남자  1995-10-13  173.6   A  10523260\n",
       "2   지드래곤     빅뱅   YG  남자  1988-08-18  177.0   A   9916947\n",
       "3   강다니엘    NaN  커넥트  남자  1996-12-10  180.0   A   8273745\n",
       "4      뷔  방탄소년단  빅히트  남자  1995-12-30  178.0  AB   8073501\n",
       "5     화사    마마무  RBW  여자  1995-07-23  162.0   A   7650928"
      ]
     },
     "execution_count": 5,
     "metadata": {},
     "output_type": "execute_result"
    }
   ],
   "source": [
    "data=pd.read_csv('http://bit.ly/ld-sample-idol', index_col='순위')\n",
    "#or\n",
    "#data=pd.read_csv('http://bit.ly/ld-sample-idol', index_col='순위')\n",
    "data.head()"
   ]
  },
  {
   "cell_type": "code",
   "execution_count": 5,
   "id": "ad7c0fdf",
   "metadata": {},
   "outputs": [
    {
     "data": {
      "text/html": [
       "<div>\n",
       "<style scoped>\n",
       "    .dataframe tbody tr th:only-of-type {\n",
       "        vertical-align: middle;\n",
       "    }\n",
       "\n",
       "    .dataframe tbody tr th {\n",
       "        vertical-align: top;\n",
       "    }\n",
       "\n",
       "    .dataframe thead th {\n",
       "        text-align: right;\n",
       "    }\n",
       "</style>\n",
       "<table border=\"1\" class=\"dataframe\">\n",
       "  <thead>\n",
       "    <tr style=\"text-align: right;\">\n",
       "      <th></th>\n",
       "      <th>이름</th>\n",
       "      <th>그룹</th>\n",
       "      <th>소속사</th>\n",
       "      <th>성별</th>\n",
       "      <th>생년월일</th>\n",
       "      <th>키</th>\n",
       "      <th>혈액형</th>\n",
       "      <th>브랜드평판지수</th>\n",
       "    </tr>\n",
       "    <tr>\n",
       "      <th>순위</th>\n",
       "      <th></th>\n",
       "      <th></th>\n",
       "      <th></th>\n",
       "      <th></th>\n",
       "      <th></th>\n",
       "      <th></th>\n",
       "      <th></th>\n",
       "      <th></th>\n",
       "    </tr>\n",
       "  </thead>\n",
       "  <tbody>\n",
       "    <tr>\n",
       "      <th>1</th>\n",
       "      <td>지민</td>\n",
       "      <td>방탄소년단</td>\n",
       "      <td>빅히트</td>\n",
       "      <td>남자</td>\n",
       "      <td>1995-10-13</td>\n",
       "      <td>173.6</td>\n",
       "      <td>A</td>\n",
       "      <td>10523260</td>\n",
       "    </tr>\n",
       "    <tr>\n",
       "      <th>2</th>\n",
       "      <td>지드래곤</td>\n",
       "      <td>빅뱅</td>\n",
       "      <td>YG</td>\n",
       "      <td>남자</td>\n",
       "      <td>1988-08-18</td>\n",
       "      <td>177.0</td>\n",
       "      <td>A</td>\n",
       "      <td>9916947</td>\n",
       "    </tr>\n",
       "    <tr>\n",
       "      <th>3</th>\n",
       "      <td>강다니엘</td>\n",
       "      <td>NaN</td>\n",
       "      <td>커넥트</td>\n",
       "      <td>남자</td>\n",
       "      <td>1996-12-10</td>\n",
       "      <td>180.0</td>\n",
       "      <td>A</td>\n",
       "      <td>8273745</td>\n",
       "    </tr>\n",
       "    <tr>\n",
       "      <th>4</th>\n",
       "      <td>뷔</td>\n",
       "      <td>방탄소년단</td>\n",
       "      <td>빅히트</td>\n",
       "      <td>남자</td>\n",
       "      <td>1995-12-30</td>\n",
       "      <td>178.0</td>\n",
       "      <td>AB</td>\n",
       "      <td>8073501</td>\n",
       "    </tr>\n",
       "    <tr>\n",
       "      <th>5</th>\n",
       "      <td>화사</td>\n",
       "      <td>마마무</td>\n",
       "      <td>RBW</td>\n",
       "      <td>여자</td>\n",
       "      <td>1995-07-23</td>\n",
       "      <td>162.0</td>\n",
       "      <td>A</td>\n",
       "      <td>7650928</td>\n",
       "    </tr>\n",
       "    <tr>\n",
       "      <th>6</th>\n",
       "      <td>정국</td>\n",
       "      <td>방탄소년단</td>\n",
       "      <td>빅히트</td>\n",
       "      <td>남자</td>\n",
       "      <td>1997-09-01</td>\n",
       "      <td>178.0</td>\n",
       "      <td>A</td>\n",
       "      <td>5208335</td>\n",
       "    </tr>\n",
       "    <tr>\n",
       "      <th>7</th>\n",
       "      <td>민현</td>\n",
       "      <td>뉴이스트</td>\n",
       "      <td>플레디스</td>\n",
       "      <td>남자</td>\n",
       "      <td>1995-08-09</td>\n",
       "      <td>182.0</td>\n",
       "      <td>O</td>\n",
       "      <td>4989792</td>\n",
       "    </tr>\n",
       "    <tr>\n",
       "      <th>8</th>\n",
       "      <td>소연</td>\n",
       "      <td>아이들</td>\n",
       "      <td>큐브</td>\n",
       "      <td>여자</td>\n",
       "      <td>1998-08-26</td>\n",
       "      <td>157.0</td>\n",
       "      <td>B</td>\n",
       "      <td>4668615</td>\n",
       "    </tr>\n",
       "    <tr>\n",
       "      <th>9</th>\n",
       "      <td>진</td>\n",
       "      <td>방탄소년단</td>\n",
       "      <td>빅히트</td>\n",
       "      <td>남자</td>\n",
       "      <td>1992-12-04</td>\n",
       "      <td>179.0</td>\n",
       "      <td>O</td>\n",
       "      <td>4570308</td>\n",
       "    </tr>\n",
       "    <tr>\n",
       "      <th>10</th>\n",
       "      <td>하성운</td>\n",
       "      <td>핫샷</td>\n",
       "      <td>스타크루이엔티</td>\n",
       "      <td>남자</td>\n",
       "      <td>1994-03-22</td>\n",
       "      <td>167.0</td>\n",
       "      <td>A</td>\n",
       "      <td>4036489</td>\n",
       "    </tr>\n",
       "    <tr>\n",
       "      <th>11</th>\n",
       "      <td>태연</td>\n",
       "      <td>소녀시대</td>\n",
       "      <td>SM</td>\n",
       "      <td>여자</td>\n",
       "      <td>1989-03-09</td>\n",
       "      <td>160.0</td>\n",
       "      <td>A</td>\n",
       "      <td>3918661</td>\n",
       "    </tr>\n",
       "    <tr>\n",
       "      <th>12</th>\n",
       "      <td>차은우</td>\n",
       "      <td>아스트로</td>\n",
       "      <td>판타지오</td>\n",
       "      <td>남자</td>\n",
       "      <td>1997-03-30</td>\n",
       "      <td>183.0</td>\n",
       "      <td>B</td>\n",
       "      <td>3506027</td>\n",
       "    </tr>\n",
       "    <tr>\n",
       "      <th>13</th>\n",
       "      <td>백호</td>\n",
       "      <td>뉴이스트</td>\n",
       "      <td>플레디스</td>\n",
       "      <td>남자</td>\n",
       "      <td>1995-07-21</td>\n",
       "      <td>175.0</td>\n",
       "      <td>AB</td>\n",
       "      <td>3301654</td>\n",
       "    </tr>\n",
       "    <tr>\n",
       "      <th>14</th>\n",
       "      <td>JR</td>\n",
       "      <td>뉴이스트</td>\n",
       "      <td>플레디스</td>\n",
       "      <td>남자</td>\n",
       "      <td>1995-06-08</td>\n",
       "      <td>176.0</td>\n",
       "      <td>O</td>\n",
       "      <td>3274137</td>\n",
       "    </tr>\n",
       "    <tr>\n",
       "      <th>15</th>\n",
       "      <td>슈가</td>\n",
       "      <td>방탄소년단</td>\n",
       "      <td>빅히트</td>\n",
       "      <td>남자</td>\n",
       "      <td>1993-03-09</td>\n",
       "      <td>174.0</td>\n",
       "      <td>O</td>\n",
       "      <td>2925442</td>\n",
       "    </tr>\n",
       "  </tbody>\n",
       "</table>\n",
       "</div>"
      ],
      "text/plain": [
       "      이름     그룹      소속사  성별        생년월일      키 혈액형   브랜드평판지수\n",
       "순위                                                           \n",
       "1     지민  방탄소년단      빅히트  남자  1995-10-13  173.6   A  10523260\n",
       "2   지드래곤     빅뱅       YG  남자  1988-08-18  177.0   A   9916947\n",
       "3   강다니엘    NaN      커넥트  남자  1996-12-10  180.0   A   8273745\n",
       "4      뷔  방탄소년단      빅히트  남자  1995-12-30  178.0  AB   8073501\n",
       "5     화사    마마무      RBW  여자  1995-07-23  162.0   A   7650928\n",
       "6     정국  방탄소년단      빅히트  남자  1997-09-01  178.0   A   5208335\n",
       "7     민현   뉴이스트     플레디스  남자  1995-08-09  182.0   O   4989792\n",
       "8     소연    아이들       큐브  여자  1998-08-26  157.0   B   4668615\n",
       "9      진  방탄소년단      빅히트  남자  1992-12-04  179.0   O   4570308\n",
       "10   하성운     핫샷  스타크루이엔티  남자  1994-03-22  167.0   A   4036489\n",
       "11    태연   소녀시대       SM  여자  1989-03-09  160.0   A   3918661\n",
       "12   차은우   아스트로     판타지오  남자  1997-03-30  183.0   B   3506027\n",
       "13    백호   뉴이스트     플레디스  남자  1995-07-21  175.0  AB   3301654\n",
       "14    JR   뉴이스트     플레디스  남자  1995-06-08  176.0   O   3274137\n",
       "15    슈가  방탄소년단      빅히트  남자  1993-03-09  174.0   O   2925442"
      ]
     },
     "execution_count": 5,
     "metadata": {},
     "output_type": "execute_result"
    }
   ],
   "source": [
    "data.set_index('순위')"
   ]
  },
  {
   "cell_type": "markdown",
   "id": "8d768a5f",
   "metadata": {},
   "source": [
    "# 2. 데이터 처리하기"
   ]
  },
  {
   "cell_type": "code",
   "execution_count": 7,
   "id": "3bfb922f",
   "metadata": {},
   "outputs": [
    {
     "data": {
      "text/plain": [
       "0       지민\n",
       "1     지드래곤\n",
       "2     강다니엘\n",
       "3        뷔\n",
       "4       화사\n",
       "5       정국\n",
       "6       민현\n",
       "7       소연\n",
       "8        진\n",
       "9      하성운\n",
       "10      태연\n",
       "11     차은우\n",
       "12      백호\n",
       "13      JR\n",
       "14      슈가\n",
       "Name: 이름, dtype: object"
      ]
     },
     "execution_count": 7,
     "metadata": {},
     "output_type": "execute_result"
    }
   ],
   "source": [
    "data['이름']\n",
    "# or\n",
    "# data.이름"
   ]
  },
  {
   "cell_type": "markdown",
   "id": "2941e717",
   "metadata": {},
   "source": [
    "## 1. row 선택"
   ]
  },
  {
   "cell_type": "code",
   "execution_count": 17,
   "id": "bcfc8281",
   "metadata": {},
   "outputs": [
    {
     "data": {
      "text/plain": [
       "순위                  4\n",
       "이름                  뷔\n",
       "그룹              방탄소년단\n",
       "소속사               빅히트\n",
       "성별                 남자\n",
       "생년월일       1995-12-30\n",
       "키               178.0\n",
       "혈액형                AB\n",
       "브랜드평판지수       8073501\n",
       "Name: 3, dtype: object"
      ]
     },
     "execution_count": 17,
     "metadata": {},
     "output_type": "execute_result"
    }
   ],
   "source": [
    "data.iloc[3]\n",
    "#or\n",
    "#data.loc[3]"
   ]
  },
  {
   "cell_type": "code",
   "execution_count": 18,
   "id": "2ba13fa5",
   "metadata": {
    "scrolled": true
   },
   "outputs": [
    {
     "data": {
      "text/html": [
       "<div>\n",
       "<style scoped>\n",
       "    .dataframe tbody tr th:only-of-type {\n",
       "        vertical-align: middle;\n",
       "    }\n",
       "\n",
       "    .dataframe tbody tr th {\n",
       "        vertical-align: top;\n",
       "    }\n",
       "\n",
       "    .dataframe thead th {\n",
       "        text-align: right;\n",
       "    }\n",
       "</style>\n",
       "<table border=\"1\" class=\"dataframe\">\n",
       "  <thead>\n",
       "    <tr style=\"text-align: right;\">\n",
       "      <th></th>\n",
       "      <th>순위</th>\n",
       "      <th>이름</th>\n",
       "      <th>그룹</th>\n",
       "      <th>소속사</th>\n",
       "      <th>성별</th>\n",
       "      <th>생년월일</th>\n",
       "      <th>키</th>\n",
       "      <th>혈액형</th>\n",
       "      <th>브랜드평판지수</th>\n",
       "    </tr>\n",
       "  </thead>\n",
       "  <tbody>\n",
       "    <tr>\n",
       "      <th>1</th>\n",
       "      <td>2</td>\n",
       "      <td>지드래곤</td>\n",
       "      <td>빅뱅</td>\n",
       "      <td>YG</td>\n",
       "      <td>남자</td>\n",
       "      <td>1988-08-18</td>\n",
       "      <td>177.0</td>\n",
       "      <td>A</td>\n",
       "      <td>9916947</td>\n",
       "    </tr>\n",
       "    <tr>\n",
       "      <th>3</th>\n",
       "      <td>4</td>\n",
       "      <td>뷔</td>\n",
       "      <td>방탄소년단</td>\n",
       "      <td>빅히트</td>\n",
       "      <td>남자</td>\n",
       "      <td>1995-12-30</td>\n",
       "      <td>178.0</td>\n",
       "      <td>AB</td>\n",
       "      <td>8073501</td>\n",
       "    </tr>\n",
       "    <tr>\n",
       "      <th>5</th>\n",
       "      <td>6</td>\n",
       "      <td>정국</td>\n",
       "      <td>방탄소년단</td>\n",
       "      <td>빅히트</td>\n",
       "      <td>남자</td>\n",
       "      <td>1997-09-01</td>\n",
       "      <td>178.0</td>\n",
       "      <td>A</td>\n",
       "      <td>5208335</td>\n",
       "    </tr>\n",
       "    <tr>\n",
       "      <th>7</th>\n",
       "      <td>8</td>\n",
       "      <td>소연</td>\n",
       "      <td>아이들</td>\n",
       "      <td>큐브</td>\n",
       "      <td>여자</td>\n",
       "      <td>1998-08-26</td>\n",
       "      <td>157.0</td>\n",
       "      <td>B</td>\n",
       "      <td>4668615</td>\n",
       "    </tr>\n",
       "    <tr>\n",
       "      <th>9</th>\n",
       "      <td>10</td>\n",
       "      <td>하성운</td>\n",
       "      <td>핫샷</td>\n",
       "      <td>스타크루이엔티</td>\n",
       "      <td>남자</td>\n",
       "      <td>1994-03-22</td>\n",
       "      <td>167.0</td>\n",
       "      <td>A</td>\n",
       "      <td>4036489</td>\n",
       "    </tr>\n",
       "  </tbody>\n",
       "</table>\n",
       "</div>"
      ],
      "text/plain": [
       "   순위    이름     그룹      소속사  성별        생년월일      키 혈액형  브랜드평판지수\n",
       "1   2  지드래곤     빅뱅       YG  남자  1988-08-18  177.0   A  9916947\n",
       "3   4     뷔  방탄소년단      빅히트  남자  1995-12-30  178.0  AB  8073501\n",
       "5   6    정국  방탄소년단      빅히트  남자  1997-09-01  178.0   A  5208335\n",
       "7   8    소연    아이들       큐브  여자  1998-08-26  157.0   B  4668615\n",
       "9  10   하성운     핫샷  스타크루이엔티  남자  1994-03-22  167.0   A  4036489"
      ]
     },
     "execution_count": 18,
     "metadata": {},
     "output_type": "execute_result"
    }
   ],
   "source": [
    "select=[1,3,5,7,9]\n",
    "\n",
    "data.iloc[select]"
   ]
  },
  {
   "cell_type": "code",
   "execution_count": 19,
   "id": "c93442bf",
   "metadata": {},
   "outputs": [
    {
     "data": {
      "text/html": [
       "<div>\n",
       "<style scoped>\n",
       "    .dataframe tbody tr th:only-of-type {\n",
       "        vertical-align: middle;\n",
       "    }\n",
       "\n",
       "    .dataframe tbody tr th {\n",
       "        vertical-align: top;\n",
       "    }\n",
       "\n",
       "    .dataframe thead th {\n",
       "        text-align: right;\n",
       "    }\n",
       "</style>\n",
       "<table border=\"1\" class=\"dataframe\">\n",
       "  <thead>\n",
       "    <tr style=\"text-align: right;\">\n",
       "      <th></th>\n",
       "      <th>순위</th>\n",
       "      <th>이름</th>\n",
       "      <th>그룹</th>\n",
       "      <th>소속사</th>\n",
       "      <th>성별</th>\n",
       "      <th>생년월일</th>\n",
       "      <th>키</th>\n",
       "      <th>혈액형</th>\n",
       "      <th>브랜드평판지수</th>\n",
       "    </tr>\n",
       "  </thead>\n",
       "  <tbody>\n",
       "    <tr>\n",
       "      <th>1</th>\n",
       "      <td>2</td>\n",
       "      <td>지드래곤</td>\n",
       "      <td>빅뱅</td>\n",
       "      <td>YG</td>\n",
       "      <td>남자</td>\n",
       "      <td>1988-08-18</td>\n",
       "      <td>177.0</td>\n",
       "      <td>A</td>\n",
       "      <td>9916947</td>\n",
       "    </tr>\n",
       "    <tr>\n",
       "      <th>3</th>\n",
       "      <td>4</td>\n",
       "      <td>뷔</td>\n",
       "      <td>방탄소년단</td>\n",
       "      <td>빅히트</td>\n",
       "      <td>남자</td>\n",
       "      <td>1995-12-30</td>\n",
       "      <td>178.0</td>\n",
       "      <td>AB</td>\n",
       "      <td>8073501</td>\n",
       "    </tr>\n",
       "    <tr>\n",
       "      <th>5</th>\n",
       "      <td>6</td>\n",
       "      <td>정국</td>\n",
       "      <td>방탄소년단</td>\n",
       "      <td>빅히트</td>\n",
       "      <td>남자</td>\n",
       "      <td>1997-09-01</td>\n",
       "      <td>178.0</td>\n",
       "      <td>A</td>\n",
       "      <td>5208335</td>\n",
       "    </tr>\n",
       "    <tr>\n",
       "      <th>7</th>\n",
       "      <td>8</td>\n",
       "      <td>소연</td>\n",
       "      <td>아이들</td>\n",
       "      <td>큐브</td>\n",
       "      <td>여자</td>\n",
       "      <td>1998-08-26</td>\n",
       "      <td>157.0</td>\n",
       "      <td>B</td>\n",
       "      <td>4668615</td>\n",
       "    </tr>\n",
       "    <tr>\n",
       "      <th>9</th>\n",
       "      <td>10</td>\n",
       "      <td>하성운</td>\n",
       "      <td>핫샷</td>\n",
       "      <td>스타크루이엔티</td>\n",
       "      <td>남자</td>\n",
       "      <td>1994-03-22</td>\n",
       "      <td>167.0</td>\n",
       "      <td>A</td>\n",
       "      <td>4036489</td>\n",
       "    </tr>\n",
       "  </tbody>\n",
       "</table>\n",
       "</div>"
      ],
      "text/plain": [
       "   순위    이름     그룹      소속사  성별        생년월일      키 혈액형  브랜드평판지수\n",
       "1   2  지드래곤     빅뱅       YG  남자  1988-08-18  177.0   A  9916947\n",
       "3   4     뷔  방탄소년단      빅히트  남자  1995-12-30  178.0  AB  8073501\n",
       "5   6    정국  방탄소년단      빅히트  남자  1997-09-01  178.0   A  5208335\n",
       "7   8    소연    아이들       큐브  여자  1998-08-26  157.0   B  4668615\n",
       "9  10   하성운     핫샷  스타크루이엔티  남자  1994-03-22  167.0   A  4036489"
      ]
     },
     "execution_count": 19,
     "metadata": {},
     "output_type": "execute_result"
    }
   ],
   "source": [
    "data.iloc[[1,3,5,7,9]]"
   ]
  },
  {
   "cell_type": "markdown",
   "id": "cbfb614f",
   "metadata": {},
   "source": [
    "## 2. col select"
   ]
  },
  {
   "cell_type": "code",
   "execution_count": 21,
   "id": "bb3eac85",
   "metadata": {},
   "outputs": [
    {
     "data": {
      "text/plain": [
       "0       지민\n",
       "1     지드래곤\n",
       "2     강다니엘\n",
       "3        뷔\n",
       "4       화사\n",
       "5       정국\n",
       "6       민현\n",
       "7       소연\n",
       "8        진\n",
       "9      하성운\n",
       "10      태연\n",
       "11     차은우\n",
       "12      백호\n",
       "13      JR\n",
       "14      슈가\n",
       "Name: 이름, dtype: object"
      ]
     },
     "execution_count": 21,
     "metadata": {},
     "output_type": "execute_result"
    }
   ],
   "source": [
    "data['이름']"
   ]
  },
  {
   "cell_type": "code",
   "execution_count": 24,
   "id": "721731d8",
   "metadata": {
    "scrolled": true
   },
   "outputs": [
    {
     "data": {
      "text/plain": [
       "'뷔'"
      ]
     },
     "execution_count": 24,
     "metadata": {},
     "output_type": "execute_result"
    }
   ],
   "source": [
    "data['이름'].iloc[3]"
   ]
  },
  {
   "cell_type": "code",
   "execution_count": 25,
   "id": "c498ea3b",
   "metadata": {},
   "outputs": [
    {
     "data": {
      "text/plain": [
       "3     뷔\n",
       "4    화사\n",
       "5    정국\n",
       "6    민현\n",
       "Name: 이름, dtype: object"
      ]
     },
     "execution_count": 25,
     "metadata": {},
     "output_type": "execute_result"
    }
   ],
   "source": [
    "data['이름'].iloc[3:7]"
   ]
  },
  {
   "cell_type": "code",
   "execution_count": 27,
   "id": "ac7389b2",
   "metadata": {
    "scrolled": true
   },
   "outputs": [
    {
     "data": {
      "text/plain": [
       "1    지드래곤\n",
       "3       뷔\n",
       "5      정국\n",
       "7      소연\n",
       "9     하성운\n",
       "Name: 이름, dtype: object"
      ]
     },
     "execution_count": 27,
     "metadata": {},
     "output_type": "execute_result"
    }
   ],
   "source": [
    "data['이름'].iloc[[1,3,5,7,9]]"
   ]
  },
  {
   "cell_type": "code",
   "execution_count": 6,
   "id": "d548c126",
   "metadata": {},
   "outputs": [
    {
     "name": "stdout",
     "output_type": "stream",
     "text": [
      "<class 'pandas.core.frame.DataFrame'>\n",
      "Int64Index: 15 entries, 1 to 15\n",
      "Data columns (total 8 columns):\n",
      " #   Column   Non-Null Count  Dtype  \n",
      "---  ------   --------------  -----  \n",
      " 0   이름       15 non-null     object \n",
      " 1   그룹       14 non-null     object \n",
      " 2   소속사      15 non-null     object \n",
      " 3   성별       15 non-null     object \n",
      " 4   생년월일     15 non-null     object \n",
      " 5   키        15 non-null     float64\n",
      " 6   혈액형      15 non-null     object \n",
      " 7   브랜드평판지수  15 non-null     int64  \n",
      "dtypes: float64(1), int64(1), object(6)\n",
      "memory usage: 1.1+ KB\n"
     ]
    }
   ],
   "source": [
    "data.info()"
   ]
  },
  {
   "cell_type": "code",
   "execution_count": 7,
   "id": "b2dff155",
   "metadata": {
    "scrolled": true
   },
   "outputs": [
    {
     "data": {
      "text/html": [
       "<div>\n",
       "<style scoped>\n",
       "    .dataframe tbody tr th:only-of-type {\n",
       "        vertical-align: middle;\n",
       "    }\n",
       "\n",
       "    .dataframe tbody tr th {\n",
       "        vertical-align: top;\n",
       "    }\n",
       "\n",
       "    .dataframe thead th {\n",
       "        text-align: right;\n",
       "    }\n",
       "</style>\n",
       "<table border=\"1\" class=\"dataframe\">\n",
       "  <thead>\n",
       "    <tr style=\"text-align: right;\">\n",
       "      <th></th>\n",
       "      <th>키</th>\n",
       "      <th>브랜드평판지수</th>\n",
       "    </tr>\n",
       "  </thead>\n",
       "  <tbody>\n",
       "    <tr>\n",
       "      <th>count</th>\n",
       "      <td>15.000000</td>\n",
       "      <td>1.500000e+01</td>\n",
       "    </tr>\n",
       "    <tr>\n",
       "      <th>mean</th>\n",
       "      <td>173.440000</td>\n",
       "      <td>5.655856e+06</td>\n",
       "    </tr>\n",
       "    <tr>\n",
       "      <th>std</th>\n",
       "      <td>8.130437</td>\n",
       "      <td>2.539068e+06</td>\n",
       "    </tr>\n",
       "    <tr>\n",
       "      <th>min</th>\n",
       "      <td>157.000000</td>\n",
       "      <td>2.925442e+06</td>\n",
       "    </tr>\n",
       "    <tr>\n",
       "      <th>25%</th>\n",
       "      <td>170.300000</td>\n",
       "      <td>3.712344e+06</td>\n",
       "    </tr>\n",
       "    <tr>\n",
       "      <th>50%</th>\n",
       "      <td>176.000000</td>\n",
       "      <td>4.668615e+06</td>\n",
       "    </tr>\n",
       "    <tr>\n",
       "      <th>75%</th>\n",
       "      <td>178.500000</td>\n",
       "      <td>7.862214e+06</td>\n",
       "    </tr>\n",
       "    <tr>\n",
       "      <th>max</th>\n",
       "      <td>183.000000</td>\n",
       "      <td>1.052326e+07</td>\n",
       "    </tr>\n",
       "  </tbody>\n",
       "</table>\n",
       "</div>"
      ],
      "text/plain": [
       "                키       브랜드평판지수\n",
       "count   15.000000  1.500000e+01\n",
       "mean   173.440000  5.655856e+06\n",
       "std      8.130437  2.539068e+06\n",
       "min    157.000000  2.925442e+06\n",
       "25%    170.300000  3.712344e+06\n",
       "50%    176.000000  4.668615e+06\n",
       "75%    178.500000  7.862214e+06\n",
       "max    183.000000  1.052326e+07"
      ]
     },
     "execution_count": 7,
     "metadata": {},
     "output_type": "execute_result"
    }
   ],
   "source": [
    "data.describe()"
   ]
  },
  {
   "cell_type": "code",
   "execution_count": 10,
   "id": "503a4b32",
   "metadata": {},
   "outputs": [
    {
     "name": "stdout",
     "output_type": "stream",
     "text": [
      "순위\n",
      "1     False\n",
      "2     False\n",
      "3      True\n",
      "4     False\n",
      "5     False\n",
      "6     False\n",
      "7     False\n",
      "8     False\n",
      "9     False\n",
      "10    False\n",
      "11    False\n",
      "12    False\n",
      "13    False\n",
      "14    False\n",
      "15    False\n",
      "Name: 그룹, dtype: bool\n"
     ]
    },
    {
     "data": {
      "text/plain": [
       "1"
      ]
     },
     "execution_count": 10,
     "metadata": {},
     "output_type": "execute_result"
    }
   ],
   "source": [
    "print(data['그룹'].isnull())\n",
    "data['그룹'].isnull().sum()"
   ]
  },
  {
   "cell_type": "code",
   "execution_count": null,
   "id": "24af93c3",
   "metadata": {},
   "outputs": [],
   "source": []
  }
 ],
 "metadata": {
  "kernelspec": {
   "display_name": "Python 3",
   "language": "python",
   "name": "python3"
  },
  "language_info": {
   "codemirror_mode": {
    "name": "ipython",
    "version": 3
   },
   "file_extension": ".py",
   "mimetype": "text/x-python",
   "name": "python",
   "nbconvert_exporter": "python",
   "pygments_lexer": "ipython3",
   "version": "3.8.8"
  }
 },
 "nbformat": 4,
 "nbformat_minor": 5
}
